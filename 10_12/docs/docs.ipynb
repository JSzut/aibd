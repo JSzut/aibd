{
 "cells": [
  {
   "cell_type": "markdown",
   "id": "d68fc5e7",
   "metadata": {},
   "source": [
    "# Dokumentacja\n",
    "## Operacje na danych earthquake_data.csv\n",
    "### Jakub Szut, Analiza i Bazy Danych, 10.2021\n",
    "\n"
   ]
  },
  {
   "cell_type": "markdown",
   "id": "34d68ccc",
   "metadata": {},
   "source": [
    "## Wymagania wstępne\n",
    "W celu przetworzenia danych, wykorzystano środowisko Python 3.7 oraz framework Pandas, który należy zaimportować do projektu dodając linijkę:"
   ]
  },
  {
   "cell_type": "code",
   "execution_count": null,
   "id": "336466ae",
   "metadata": {},
   "outputs": [],
   "source": [
    "import pandas as pd"
   ]
  },
  {
   "cell_type": "markdown",
   "id": "67d825d5",
   "metadata": {},
   "source": [
    "## Wczytanie danych\n",
    "W celu uzyskania dostępu do danych, należy wczytać plik earthquake_data.csv. Realizowane jest przez funkcję wbudowaną w Pandas:"
   ]
  },
  {
   "cell_type": "code",
   "execution_count": null,
   "id": "e1363f37",
   "metadata": {},
   "outputs": [],
   "source": [
    "pd.read_csv(filename)"
   ]
  },
  {
   "cell_type": "markdown",
   "id": "327efdc5",
   "metadata": {},
   "source": [
    "W celu uzskania późniejszego dostępu do danych, wynik powyższej linijki jest przypisywane do zmiennej ori."
   ]
  },
  {
   "cell_type": "markdown",
   "id": "7acd9bb3",
   "metadata": {},
   "source": [
    "## Zmiana nazw kolumn\n",
    "W celu zwiększenia czytelności tabeli oraz ułatwienia dalszego opracowywania danych, zmieniono nagłówki poszczególnych kolumn na krótsze używając komendy:"
   ]
  },
  {
   "cell_type": "code",
   "execution_count": null,
   "id": "a16e9dad",
   "metadata": {},
   "outputs": [],
   "source": [
    "ori.rename(columns={\"old_column_name\":\"new_column_name\"})"
   ]
  },
  {
   "cell_type": "markdown",
   "id": "dde217de",
   "metadata": {},
   "source": [
    "Nazwy zmieniono zgodnie z poniższą tabelą:"
   ]
  },
  {
   "cell_type": "markdown",
   "id": "f8eaf9a2",
   "metadata": {},
   "source": [
    "| Old name | New Name |\n",
    "| --- | -- |\n",
    "|'In general, how worried are you about earthquakes?' | 'earthquake worries' |\n",
    "|'How worried are you about the Big One, a massive, catastrophic earthquake?'|'Big One worries'|\n",
    "|'Do you think the \"Big One\" will occur in your lifetime?'|'Big One occurance prediction'|\n",
    "|'Have you ever experienced an earthquake?'|'earthquake experienced'|\n",
    "|'Have you or anyone in your household taken any precautions for an earthquake (packed an earthquake survival kit| prepared an evacuation plan, etc.)?'|'earthquake precautions taken'|\n",
    "|'How familiar are you with the San Andreas Fault line?'|'San Andreas Fault line familiarity'|\n",
    "|'How familiar are you with the Yellowstone Supervolcano?'|'yellowstone familiarity'|\n",
    "|'Age'|'age'|\n",
    "|'What is your gender?'|'gender'|\n",
    "|'How much total combined money did all members of your HOUSEHOLD earn last year?'|'household earnings'|\n",
    "|'US Region'|'us region'|"
   ]
  },
  {
   "cell_type": "markdown",
   "id": "282ab6af",
   "metadata": {},
   "source": [
    "Przerobione dane zapisano w /output/earthquake_data_headers_changed.csv"
   ]
  },
  {
   "cell_type": "markdown",
   "id": "c588ceaf",
   "metadata": {},
   "source": [
    "## Przygotowanie tabeli pochodnej\n",
    "W celu dalszej analizy przygotowano tabelkę zawierającą kolumny tabeli oryginalnej: wiek, płeć oraz \"Big One occurance prediction\""
   ]
  },
  {
   "cell_type": "markdown",
   "id": "0d4ebf14",
   "metadata": {},
   "source": [
    "Zrealizowano to poprzez wydobycie z oryginalnych danych odpowiednich danych i połączenia ich w nowy obiekt Dataframe. Uzyskone to w następujący sposób:"
   ]
  },
  {
   "cell_type": "code",
   "execution_count": null,
   "id": "78e4bcd3",
   "metadata": {},
   "outputs": [],
   "source": [
    "manip = {'age':ori['age'], \n",
    "       'sex':ori['gender'],\n",
    "       'Big One expected': ori['Big One occurance prediction']}\n",
    "out = pd.DataFrame(data = manip)"
   ]
  },
  {
   "cell_type": "markdown",
   "id": "de26b205",
   "metadata": {},
   "source": [
    "Przy okazji dokonano kolejnego uproszczenia nazw kolumn w celu docelowej analizy"
   ]
  },
  {
   "cell_type": "markdown",
   "id": "d95ca930",
   "metadata": {},
   "source": [
    "## Analiza danych\n",
    "Bazując na uzyskanej tabeli, postanowiono przeanalizować dane, które zawiera i uzyskać pewne informacje o danych.\n",
    "Zbadano, jaką część danych stanowią dane posiadające puste dane. "
   ]
  },
  {
   "cell_type": "code",
   "execution_count": null,
   "id": "44204092",
   "metadata": {},
   "outputs": [],
   "source": [
    "nan_count = out.isnull().any(axis=1).sum()\n",
    "print(nan_count)"
   ]
  },
  {
   "cell_type": "markdown",
   "id": "f73b9c19",
   "metadata": {},
   "source": [
    "Obliczono również procent jaki stanowią tak niepełne dane. Uzyskano wynik 1,2%. Na tej podstawie zadecydowano o znikomym znaczeniu wierszy o niepełnych danych i postanowiono o jego usunięciu."
   ]
  },
  {
   "cell_type": "code",
   "execution_count": null,
   "id": "38f8e40f",
   "metadata": {},
   "outputs": [],
   "source": [
    "out = out.dropna()"
   ]
  },
  {
   "cell_type": "markdown",
   "id": "54662294",
   "metadata": {},
   "source": [
    "Obliczono równieź średnią wieku odpowiadających, wyniosła ona 39 lat."
   ]
  },
  {
   "cell_type": "markdown",
   "id": "176571b0",
   "metadata": {},
   "source": [
    "Uzyskane w ten sposób czyste dane zapisano w /output/earthquake_data_simplified.csv"
   ]
  }
 ],
 "metadata": {
  "kernelspec": {
   "display_name": "Python 3",
   "language": "python",
   "name": "python3"
  },
  "language_info": {
   "codemirror_mode": {
    "name": "ipython",
    "version": 3
   },
   "file_extension": ".py",
   "mimetype": "text/x-python",
   "name": "python",
   "nbconvert_exporter": "python",
   "pygments_lexer": "ipython3",
   "version": "3.8.8"
  }
 },
 "nbformat": 4,
 "nbformat_minor": 5
}
